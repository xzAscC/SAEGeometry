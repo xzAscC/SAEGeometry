{
 "cells": [
  {
   "cell_type": "code",
   "execution_count": 1,
   "metadata": {},
   "outputs": [
    {
     "name": "stderr",
     "output_type": "stream",
     "text": [
      "/mnt/c/Users/huohu/Documents/code/SAEGeometry/config/saegeometry-1tp4usyN-py3.12/lib/python3.12/site-packages/tqdm/auto.py:21: TqdmWarning: IProgress not found. Please update jupyter and ipywidgets. See https://ipywidgets.readthedocs.io/en/stable/user_install.html\n",
      "  from .autonotebook import tqdm as notebook_tqdm\n",
      "100%|██████████| 6/6 [00:03<00:00,  1.92it/s]\n",
      "The `GPTNeoXSdpaAttention` class is deprecated in favor of simply modifying the `config._attn_implementation`attribute of the `GPTNeoXAttention` class! It will be removed in v4.48\n"
     ]
    },
    {
     "name": "stdout",
     "output_type": "stream",
     "text": [
      "Loaded pretrained model pythia-70m-deduped into HookedTransformer\n"
     ]
    }
   ],
   "source": [
    "import sae_lens\n",
    "import torch\n",
    "import jaxtyping\n",
    "import random\n",
    "import datasets\n",
    "import plotly.colors as pc\n",
    "import plotly.express as px\n",
    "import seaborn as sns\n",
    "import numpy as np\n",
    "import pandas as pd\n",
    "from typing import List, Tuple\n",
    "from tqdm import tqdm\n",
    "\n",
    "def obtain_data() -> (\n",
    "    Tuple[List[sae_lens.SAE], torch.nn.Module, torch.utils.data.Dataset]\n",
    "):\n",
    "    \"\"\"\n",
    "    load sae, model and dataset\n",
    "    \"\"\"\n",
    "    device = \"cuda\" if torch.cuda.is_available() else \"cpu\"\n",
    "    layers = 6\n",
    "    saes = []\n",
    "    release = \"pythia-70m-deduped-res-sm\"\n",
    "    model_name = \"pythia-70m-deduped\"\n",
    "    for layer in tqdm(range(layers)):\n",
    "        sae_id = f\"blocks.{layer}.hook_resid_post\"\n",
    "        saes.append(\n",
    "            sae_lens.SAE.from_pretrained(release=release, sae_id=sae_id, device=device)[\n",
    "                0\n",
    "            ]\n",
    "        )\n",
    "\n",
    "    model = sae_lens.HookedSAETransformer.from_pretrained(model_name)\n",
    "    ds = datasets.load_dataset(\"Salesforce/wikitext\", \"wikitext-2-raw-v1\")[\"train\"]\n",
    "\n",
    "    return saes, model, ds\n",
    "\n",
    "saes, model, ds = obtain_data()"
   ]
  },
  {
   "cell_type": "code",
   "execution_count": 2,
   "metadata": {},
   "outputs": [
    {
     "name": "stderr",
     "output_type": "stream",
     "text": [
      "/tmp/ipykernel_1033/93926725.py:1: FutureWarning: You are using `torch.load` with `weights_only=False` (the current default value), which uses the default pickle module implicitly. It is possible to construct malicious pickle data which will execute arbitrary code during unpickling (See https://github.com/pytorch/pytorch/blob/main/SECURITY.md#untrusted-models for more details). In a future release, the default value for `weights_only` will be flipped to `True`. This limits the functions that could be executed during unpickling. Arbitrary objects will no longer be allowed to be loaded via this mode unless they are explicitly allowlisted by the user via `torch.serialization.add_safe_globals`. We recommend you start setting `weights_only=True` for any use case where you don't have full control of the loaded file. Please open an issue on GitHub for any issues related to this experimental feature.\n",
      "  code_acts = torch.load(\"../res/acts/BAAI-TACO-pythia70m-res-all6-acts.pt\")\n",
      "/tmp/ipykernel_1033/93926725.py:2: FutureWarning: You are using `torch.load` with `weights_only=False` (the current default value), which uses the default pickle module implicitly. It is possible to construct malicious pickle data which will execute arbitrary code during unpickling (See https://github.com/pytorch/pytorch/blob/main/SECURITY.md#untrusted-models for more details). In a future release, the default value for `weights_only` will be flipped to `True`. This limits the functions that could be executed during unpickling. Arbitrary objects will no longer be allowed to be loaded via this mode unless they are explicitly allowlisted by the user via `torch.serialization.add_safe_globals`. We recommend you start setting `weights_only=True` for any use case where you don't have full control of the loaded file. Please open an issue on GitHub for any issues related to this experimental feature.\n",
      "  math_acts = torch.load(\"../res/acts/math-pythia70m-res-all6-acts.pt\")\n",
      "/tmp/ipykernel_1033/93926725.py:3: FutureWarning: You are using `torch.load` with `weights_only=False` (the current default value), which uses the default pickle module implicitly. It is possible to construct malicious pickle data which will execute arbitrary code during unpickling (See https://github.com/pytorch/pytorch/blob/main/SECURITY.md#untrusted-models for more details). In a future release, the default value for `weights_only` will be flipped to `True`. This limits the functions that could be executed during unpickling. Arbitrary objects will no longer be allowed to be loaded via this mode unless they are explicitly allowlisted by the user via `torch.serialization.add_safe_globals`. We recommend you start setting `weights_only=True` for any use case where you don't have full control of the loaded file. Please open an issue on GitHub for any issues related to this experimental feature.\n",
      "  wiki_acts = torch.load(\"../res/acts/wiki-pythia70m-res-all6-acts.pt\")\n"
     ]
    }
   ],
   "source": [
    "code_acts = torch.load(\"../res/acts/BAAI-TACO-pythia70m-res-all6-acts.pt\")\n",
    "math_acts = torch.load(\"../res/acts/math-pythia70m-res-all6-acts.pt\")\n",
    "wiki_acts = torch.load(\"../res/acts/wiki-pythia70m-res-all6-acts.pt\")\n",
    "\n",
    "top_num = 325\n",
    "top_index_code = torch.topk(code_acts, top_num).indices"
   ]
  },
  {
   "cell_type": "code",
   "execution_count": 3,
   "metadata": {},
   "outputs": [
    {
     "data": {
      "text/plain": [
       "36718"
      ]
     },
     "execution_count": 3,
     "metadata": {},
     "output_type": "execute_result"
    }
   ],
   "source": [
    "len(ds)"
   ]
  },
  {
   "cell_type": "code",
   "execution_count": 4,
   "metadata": {},
   "outputs": [
    {
     "name": "stderr",
     "output_type": "stream",
     "text": [
      "100%|██████████| 10/10 [00:14<00:00,  1.47s/it]\n",
      "100%|██████████| 10/10 [00:13<00:00,  1.36s/it]\n",
      "100%|██████████| 10/10 [00:13<00:00,  1.33s/it]\n",
      "100%|██████████| 10/10 [00:12<00:00,  1.21s/it]\n",
      "100%|██████████| 10/10 [00:12<00:00,  1.21s/it]\n"
     ]
    }
   ],
   "source": [
    "import copy\n",
    "nz_all = []\n",
    "doc_len = 0\n",
    "freq_mean_global = 0\n",
    "layers = 6\n",
    "device = \"cuda\" if torch.cuda.is_available() else \"cpu\"\n",
    "freqs = torch.zeros(saes[0].cfg.d_sae).to(device)\n",
    "abl_layer = 0\n",
    "abl_times = 10\n",
    "for layer in range(layers-1):\n",
    "    nz_freqs = []\n",
    "    abl_layer = layer\n",
    "    for idx in tqdm(range(abl_times)):\n",
    "        saes2 = copy.deepcopy(saes)\n",
    "        with torch.no_grad():\n",
    "            abl_num = 29\n",
    "            list(map(lambda idy: saes2[abl_layer].W_dec[idy, :].zero_(), top_index_code[0][abl_num*idx:abl_num*(idx+1)]))\n",
    "        ds_ratio = 1e-3\n",
    "        length_ds = int(len(ds) * ds_ratio)\n",
    "        for idx in range(length_ds):\n",
    "            # loop begin, fuck indent\n",
    "            example = ds[idx]\n",
    "            tokens = model.to_tokens([example[\"text\"]], prepend_bos=True)\n",
    "            _, cache1 = model.run_with_cache_with_saes(tokens, saes=saes, use_error_term=False)\n",
    "            model.reset_saes()\n",
    "            _, cache2 = model.run_with_cache_with_saes(tokens, saes=saes2, use_error_term=False)\n",
    "            local_doc_len = cache1[\"blocks.0.hook_resid_post.hook_sae_acts_post\"].shape[1]\n",
    "            freq = torch.zeros_like(freqs)\n",
    "            \n",
    "            prompt2 = f\"blocks.{abl_layer + 1}.hook_resid_post.hook_sae_acts_post\"\n",
    "            freq = (((cache1[prompt2] > 1e-3) + 0 + cache2[prompt2] > 1e-3)==1)[0].sum(\n",
    "                0\n",
    "            ) / local_doc_len\n",
    "            # freq[layer] = (cache[prompt2] > 1e-3)[0].sum(0) / local_doc_len\n",
    "            new_doc_len = doc_len + local_doc_len\n",
    "            if idx == 0:\n",
    "                freq_mean_global = freq\n",
    "            else:\n",
    "                freq_mean_global = (\n",
    "                    freq_mean_global * doc_len / new_doc_len\n",
    "                    + freq * local_doc_len / new_doc_len\n",
    "                )\n",
    "            doc_len = new_doc_len\n",
    "        nz_freqs.append(freq_mean_global)\n",
    "    nz_all.append(nz_freqs)"
   ]
  },
  {
   "cell_type": "code",
   "execution_count": 19,
   "metadata": {},
   "outputs": [
    {
     "name": "stdout",
     "output_type": "stream",
     "text": [
      "common iou: (293,) abl_layer: 0 influence freq: torch.Size([8181])\n",
      "common iou: (287,) abl_layer: 0 influence freq: torch.Size([8297])\n",
      "common iou: (278,) abl_layer: 0 influence freq: torch.Size([8135])\n",
      "common iou: (273,) abl_layer: 0 influence freq: torch.Size([8203])\n",
      "common iou: (265,) abl_layer: 0 influence freq: torch.Size([8099])\n",
      "common iou: (258,) abl_layer: 0 influence freq: torch.Size([8169])\n",
      "common iou: (250,) abl_layer: 0 influence freq: torch.Size([8135])\n",
      "common iou: (246,) abl_layer: 0 influence freq: torch.Size([8132])\n",
      "common iou: (238,) abl_layer: 0 influence freq: torch.Size([8145])\n",
      "common iou: (232,) abl_layer: 0 influence freq: torch.Size([8113])\n",
      "common iou: (286,) abl_layer: 1 influence freq: torch.Size([6998])\n",
      "common iou: (282,) abl_layer: 1 influence freq: torch.Size([7003])\n",
      "common iou: (280,) abl_layer: 1 influence freq: torch.Size([6999])\n",
      "common iou: (280,) abl_layer: 1 influence freq: torch.Size([7004])\n",
      "common iou: (279,) abl_layer: 1 influence freq: torch.Size([6999])\n",
      "common iou: (278,) abl_layer: 1 influence freq: torch.Size([7030])\n",
      "common iou: (276,) abl_layer: 1 influence freq: torch.Size([7001])\n",
      "common iou: (271,) abl_layer: 1 influence freq: torch.Size([7017])\n",
      "common iou: (268,) abl_layer: 1 influence freq: torch.Size([7002])\n",
      "common iou: (268,) abl_layer: 1 influence freq: torch.Size([7000])\n",
      "common iou: (196,) abl_layer: 2 influence freq: torch.Size([7882])\n",
      "common iou: (193,) abl_layer: 2 influence freq: torch.Size([7835])\n",
      "common iou: (189,) abl_layer: 2 influence freq: torch.Size([7840])\n",
      "common iou: (187,) abl_layer: 2 influence freq: torch.Size([7891])\n",
      "common iou: (185,) abl_layer: 2 influence freq: torch.Size([7937])\n",
      "common iou: (182,) abl_layer: 2 influence freq: torch.Size([7829])\n",
      "common iou: (180,) abl_layer: 2 influence freq: torch.Size([7845])\n",
      "common iou: (178,) abl_layer: 2 influence freq: torch.Size([7835])\n",
      "common iou: (175,) abl_layer: 2 influence freq: torch.Size([7848])\n",
      "common iou: (170,) abl_layer: 2 influence freq: torch.Size([7830])\n",
      "common iou: (160,) abl_layer: 3 influence freq: torch.Size([11003])\n",
      "common iou: (156,) abl_layer: 3 influence freq: torch.Size([11001])\n",
      "common iou: (156,) abl_layer: 3 influence freq: torch.Size([11018])\n",
      "common iou: (156,) abl_layer: 3 influence freq: torch.Size([11015])\n",
      "common iou: (154,) abl_layer: 3 influence freq: torch.Size([11005])\n",
      "common iou: (152,) abl_layer: 3 influence freq: torch.Size([11024])\n",
      "common iou: (152,) abl_layer: 3 influence freq: torch.Size([11023])\n",
      "common iou: (149,) abl_layer: 3 influence freq: torch.Size([10999])\n",
      "common iou: (147,) abl_layer: 3 influence freq: torch.Size([11024])\n",
      "common iou: (147,) abl_layer: 3 influence freq: torch.Size([11102])\n",
      "common iou: (48,) abl_layer: 4 influence freq: torch.Size([13825])\n",
      "common iou: (43,) abl_layer: 4 influence freq: torch.Size([13823])\n",
      "common iou: (43,) abl_layer: 4 influence freq: torch.Size([13850])\n",
      "common iou: (42,) abl_layer: 4 influence freq: torch.Size([13821])\n",
      "common iou: (42,) abl_layer: 4 influence freq: torch.Size([13831])\n",
      "common iou: (42,) abl_layer: 4 influence freq: torch.Size([13823])\n",
      "common iou: (42,) abl_layer: 4 influence freq: torch.Size([13832])\n",
      "common iou: (40,) abl_layer: 4 influence freq: torch.Size([13823])\n",
      "common iou: (39,) abl_layer: 4 influence freq: torch.Size([13827])\n",
      "common iou: (38,) abl_layer: 4 influence freq: torch.Size([13878])\n",
      "iou with last abl: (48,)\n",
      "iou with last abl: (43,)\n",
      "iou with last abl: (43,)\n",
      "iou with last abl: (42,)\n",
      "iou with last abl: (42,)\n",
      "iou with last abl: (42,)\n",
      "iou with last abl: (42,)\n",
      "iou with last abl: (40,)\n",
      "iou with last abl: (39,)\n"
     ]
    }
   ],
   "source": [
    "res_ = [[], [], [], [], []]\n",
    "\n",
    "for layer in range(layers-1):\n",
    "    for idx in range(len(nz_freqs)):\n",
    "        res = np.intersect1d(top_index_code[layer+1].cpu().numpy(), (nz_all[layer][idx]>1e-3).nonzero().view(-1).cpu().numpy())\n",
    "        print(f'common iou: {res.shape} abl_layer: {layer} influence freq: {nz_all[layer][idx].nonzero().view(-1).shape}')\n",
    "        res_[layer].append(res)\n",
    "last_iou = res_[4][0]\n",
    "for idx in range(len(res_[4]) - 1):\n",
    "    iou = np.intersect1d(last_iou, res_[4][idx])\n",
    "    last_iou = iou\n",
    "    print(f\"iou with last abl: {iou.shape}\")"
   ]
  },
  {
   "cell_type": "code",
   "execution_count": 13,
   "metadata": {},
   "outputs": [
    {
     "name": "stdout",
     "output_type": "stream",
     "text": [
      "common iou: (312,) abl_layer: 0 influence freq: torch.Size([8181])\n",
      "common iou: (312,) abl_layer: 0 influence freq: torch.Size([8297])\n",
      "common iou: (312,) abl_layer: 0 influence freq: torch.Size([8135])\n",
      "common iou: (312,) abl_layer: 0 influence freq: torch.Size([8203])\n",
      "common iou: (312,) abl_layer: 0 influence freq: torch.Size([8099])\n",
      "common iou: (312,) abl_layer: 0 influence freq: torch.Size([8169])\n",
      "common iou: (312,) abl_layer: 0 influence freq: torch.Size([8135])\n",
      "common iou: (313,) abl_layer: 0 influence freq: torch.Size([8132])\n",
      "common iou: (312,) abl_layer: 0 influence freq: torch.Size([8145])\n",
      "common iou: (313,) abl_layer: 0 influence freq: torch.Size([8113])\n",
      "common iou: (321,) abl_layer: 1 influence freq: torch.Size([6998])\n",
      "common iou: (321,) abl_layer: 1 influence freq: torch.Size([7003])\n",
      "common iou: (321,) abl_layer: 1 influence freq: torch.Size([6999])\n",
      "common iou: (321,) abl_layer: 1 influence freq: torch.Size([7004])\n",
      "common iou: (321,) abl_layer: 1 influence freq: torch.Size([6999])\n",
      "common iou: (321,) abl_layer: 1 influence freq: torch.Size([7030])\n",
      "common iou: (321,) abl_layer: 1 influence freq: torch.Size([7001])\n",
      "common iou: (321,) abl_layer: 1 influence freq: torch.Size([7017])\n",
      "common iou: (321,) abl_layer: 1 influence freq: torch.Size([7002])\n",
      "common iou: (321,) abl_layer: 1 influence freq: torch.Size([7000])\n",
      "common iou: (318,) abl_layer: 2 influence freq: torch.Size([7882])\n",
      "common iou: (318,) abl_layer: 2 influence freq: torch.Size([7835])\n",
      "common iou: (318,) abl_layer: 2 influence freq: torch.Size([7840])\n",
      "common iou: (318,) abl_layer: 2 influence freq: torch.Size([7891])\n",
      "common iou: (318,) abl_layer: 2 influence freq: torch.Size([7937])\n",
      "common iou: (318,) abl_layer: 2 influence freq: torch.Size([7829])\n",
      "common iou: (318,) abl_layer: 2 influence freq: torch.Size([7845])\n",
      "common iou: (318,) abl_layer: 2 influence freq: torch.Size([7835])\n",
      "common iou: (318,) abl_layer: 2 influence freq: torch.Size([7848])\n",
      "common iou: (318,) abl_layer: 2 influence freq: torch.Size([7830])\n",
      "common iou: (316,) abl_layer: 3 influence freq: torch.Size([11003])\n",
      "common iou: (316,) abl_layer: 3 influence freq: torch.Size([11001])\n",
      "common iou: (316,) abl_layer: 3 influence freq: torch.Size([11018])\n",
      "common iou: (316,) abl_layer: 3 influence freq: torch.Size([11015])\n",
      "common iou: (316,) abl_layer: 3 influence freq: torch.Size([11005])\n",
      "common iou: (316,) abl_layer: 3 influence freq: torch.Size([11024])\n",
      "common iou: (316,) abl_layer: 3 influence freq: torch.Size([11023])\n",
      "common iou: (316,) abl_layer: 3 influence freq: torch.Size([10999])\n",
      "common iou: (316,) abl_layer: 3 influence freq: torch.Size([11024])\n",
      "common iou: (316,) abl_layer: 3 influence freq: torch.Size([11102])\n",
      "common iou: (311,) abl_layer: 4 influence freq: torch.Size([13825])\n",
      "common iou: (311,) abl_layer: 4 influence freq: torch.Size([13823])\n",
      "common iou: (313,) abl_layer: 4 influence freq: torch.Size([13850])\n",
      "common iou: (311,) abl_layer: 4 influence freq: torch.Size([13821])\n",
      "common iou: (311,) abl_layer: 4 influence freq: torch.Size([13831])\n",
      "common iou: (311,) abl_layer: 4 influence freq: torch.Size([13823])\n",
      "common iou: (311,) abl_layer: 4 influence freq: torch.Size([13832])\n",
      "common iou: (311,) abl_layer: 4 influence freq: torch.Size([13823])\n",
      "common iou: (311,) abl_layer: 4 influence freq: torch.Size([13827])\n",
      "common iou: (311,) abl_layer: 4 influence freq: torch.Size([13878])\n",
      "iou with last abl: (311,)\n",
      "iou with last abl: (311,)\n",
      "iou with last abl: (311,)\n",
      "iou with last abl: (311,)\n"
     ]
    }
   ],
   "source": [
    "res_ = [[], [], [], [], []]\n",
    "for layer in range(layers-1):\n",
    "    for idx in range(len(nz_freqs)):\n",
    "        res = np.intersect1d(top_index_code[layer+1].cpu().numpy(), nz_all[layer][idx].nonzero().view(-1).cpu().numpy())\n",
    "        print(f'common iou: {res.shape} abl_layer: {layer} influence freq: {nz_all[layer][idx].nonzero().view(-1).shape}')\n",
    "        res_[layer].append(res)\n",
    "last_iou = res_[4][0]\n",
    "for idx in range(len(res_) - 1):\n",
    "    iou = np.intersect1d(last_iou, res_[4][idx])\n",
    "    last_iou = iou\n",
    "    print(f\"iou with last abl: {iou.shape}\")"
   ]
  },
  {
   "cell_type": "code",
   "execution_count": 7,
   "metadata": {},
   "outputs": [
    {
     "data": {
      "text/plain": [
       "tensor([[    0,   899],\n",
       "        [    1,  1333],\n",
       "        [    1,  2653],\n",
       "        ...,\n",
       "        [   79, 26770],\n",
       "        [   79, 28835],\n",
       "        [   79, 31976]], device='cuda:0')"
      ]
     },
     "execution_count": 7,
     "metadata": {},
     "output_type": "execute_result"
    }
   ],
   "source": [
    "cache1[prompt2][0].nonzero()"
   ]
  },
  {
   "cell_type": "code",
   "execution_count": 8,
   "metadata": {},
   "outputs": [
    {
     "data": {
      "text/plain": [
       "tensor([[    0,   899],\n",
       "        [    1,  1333],\n",
       "        [    1,  2653],\n",
       "        ...,\n",
       "        [   79, 26770],\n",
       "        [   79, 28835],\n",
       "        [   79, 31976]], device='cuda:0')"
      ]
     },
     "execution_count": 8,
     "metadata": {},
     "output_type": "execute_result"
    }
   ],
   "source": [
    "cache2[prompt2][0].nonzero()"
   ]
  },
  {
   "cell_type": "code",
   "execution_count": 9,
   "metadata": {},
   "outputs": [
    {
     "data": {
      "text/plain": [
       "torch.Size([4138, 1])"
      ]
     },
     "execution_count": 9,
     "metadata": {},
     "output_type": "execute_result"
    }
   ],
   "source": [
    "freq = (((cache1[prompt2] > 1e-3) + 0 + cache2[prompt2] > 1e-3)==1)[0].sum(\n",
    "                0\n",
    "            ) / local_doc_len\n",
    "(freq>1e-3).nonzero().shape"
   ]
  },
  {
   "cell_type": "code",
   "execution_count": null,
   "metadata": {},
   "outputs": [],
   "source": []
  }
 ],
 "metadata": {
  "kernelspec": {
   "display_name": "saegeometry-1tp4usyN-py3.12",
   "language": "python",
   "name": "python3"
  },
  "language_info": {
   "codemirror_mode": {
    "name": "ipython",
    "version": 3
   },
   "file_extension": ".py",
   "mimetype": "text/x-python",
   "name": "python",
   "nbconvert_exporter": "python",
   "pygments_lexer": "ipython3",
   "version": "3.12.3"
  }
 },
 "nbformat": 4,
 "nbformat_minor": 2
}
