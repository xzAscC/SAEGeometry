{
 "cells": [
  {
   "cell_type": "code",
   "execution_count": 1,
   "metadata": {},
   "outputs": [
    {
     "name": "stdout",
     "output_type": "stream",
     "text": [
      "Running as a Jupyter notebook - intended for development only!\n"
     ]
    },
    {
     "name": "stderr",
     "output_type": "stream",
     "text": [
      "C:\\Users\\huohu\\AppData\\Local\\Temp\\ipykernel_18968\\740336833.py:16: DeprecationWarning: `magic(...)` is deprecated since IPython 0.13 (warning added in 8.1), use run_line_magic(magic_name, parameter_s).\n",
      "  ipython.magic(\"load_ext autoreload\")\n",
      "C:\\Users\\huohu\\AppData\\Local\\Temp\\ipykernel_18968\\740336833.py:17: DeprecationWarning: `magic(...)` is deprecated since IPython 0.13 (warning added in 8.1), use run_line_magic(magic_name, parameter_s).\n",
      "  ipython.magic(\"autoreload 2\")\n"
     ]
    }
   ],
   "source": [
    "DEVELOPMENT_MODE = False\n",
    "try:\n",
    "    import google.colab\n",
    "\n",
    "    IN_COLAB = True\n",
    "    print(\"Running as a Colab notebook\")\n",
    "    %pip install git+https://github.com/jbloomAus/SAELens\n",
    "\n",
    "except:\n",
    "    IN_COLAB = False\n",
    "    print(\"Running as a Jupyter notebook - intended for development only!\")\n",
    "    from IPython import get_ipython\n",
    "\n",
    "    ipython = get_ipython()\n",
    "    # Code to automatically update the HookedTransformer code as its edited without restarting the kernel\n",
    "    ipython.magic(\"load_ext autoreload\")\n",
    "    ipython.magic(\"autoreload 2\")"
   ]
  },
  {
   "cell_type": "code",
   "execution_count": 2,
   "metadata": {},
   "outputs": [
    {
     "data": {
      "text/plain": [
       "<torch.autograd.grad_mode.set_grad_enabled at 0x203fab63ce0>"
      ]
     },
     "execution_count": 2,
     "metadata": {},
     "output_type": "execute_result"
    }
   ],
   "source": [
    "import torch\n",
    "if torch.cuda.is_available():\n",
    "    device = \"cuda\"\n",
    "# elif torch.backends.mps.is_available():\n",
    "#     device = \"mps\"\n",
    "else:\n",
    "    device = \"cpu\"\n",
    "torch.set_grad_enabled(False)"
   ]
  },
  {
   "cell_type": "code",
   "execution_count": 3,
   "metadata": {},
   "outputs": [
    {
     "name": "stderr",
     "output_type": "stream",
     "text": [
      "d:\\code\\sae\\SAE_Geometry\\.venv\\Lib\\site-packages\\tqdm\\auto.py:21: TqdmWarning: IProgress not found. Please update jupyter and ipywidgets. See https://ipywidgets.readthedocs.io/en/stable/user_install.html\n",
      "  from .autonotebook import tqdm as notebook_tqdm\n"
     ]
    }
   ],
   "source": [
    "import sae_lens"
   ]
  },
  {
   "cell_type": "code",
   "execution_count": 4,
   "metadata": {},
   "outputs": [
    {
     "name": "stderr",
     "output_type": "stream",
     "text": [
      "  0%|          | 0/12 [00:00<?, ?it/s]d:\\code\\sae\\SAE_Geometry\\.venv\\Lib\\site-packages\\sae_lens\\sae.py:145: UserWarning: \n",
      "This SAE has non-empty model_from_pretrained_kwargs. \n",
      "For optimal performance, load the model like so:\n",
      "model = HookedSAETransformer.from_pretrained_no_processing(..., **cfg.model_from_pretrained_kwargs)\n",
      "  warnings.warn(\n",
      "100%|██████████| 12/12 [00:51<00:00,  4.33s/it]\n"
     ]
    }
   ],
   "source": [
    "import tqdm\n",
    "from sae_lens import SAE\n",
    "import numpy as np\n",
    "\n",
    "hook_name_to_sae = []\n",
    "length = 8013\n",
    "d_sae = 24576\n",
    "layers = 12\n",
    "acts = torch.zeros((layers, length, d_sae)).to(device)\n",
    "for layer in tqdm.tqdm(range(layers)):\n",
    "    sae, cfg_dict, _ = SAE.from_pretrained(\n",
    "        \"gpt2-small-res-jb\",\n",
    "        f\"blocks.{layer}.hook_resid_pre\",\n",
    "        device=device,\n",
    "    )\n",
    "    hook_name_to_sae.append(sae)\n",
    "    with open(f\"acts/activation0001_layer{layer}.npy\", \"rb\") as f:\n",
    "        for idx in range(length):\n",
    "            acts[layer, idx] = torch.from_numpy(np.load(f)).to(device)"
   ]
  },
  {
   "cell_type": "code",
   "execution_count": 5,
   "metadata": {},
   "outputs": [],
   "source": [
    "from jaxtyping import Float\n",
    "from torch import Tensor\n",
    "import torch\n",
    "import torch.nn.functional as F\n",
    "def get_cosine_similarity(\n",
    "    dict_elements_1: Float[Tensor, \"n_dense n_dict_1\"],\n",
    "    dict_elements_2: Float[Tensor, \"n_dense n_dict_2\"],\n",
    "    p_norm: int = 2,\n",
    "    dim: int = 1,\n",
    ") -> Float[Tensor, \"n_dict_1 n_dict_2\"]:\n",
    "    \"\"\"Get the cosine similarity between the alive dictionary elements of two runs.\n",
    "\n",
    "    Args:\n",
    "        dict_elements_1: The alive dictionary elements of the first run.\n",
    "        dict_elements_2: The alive dictionary elements of the second run.\n",
    "\n",
    "    Returns:\n",
    "        The cosine similarity between the alive dictionary elements of the two runs.\n",
    "    \"\"\"\n",
    "    # Compute cosine similarity in pytorch\n",
    "    device = torch.device(\"cuda\" if torch.cuda.is_available() else \"cpu\")\n",
    "    dict_elements_1 = dict_elements_1.to(device)\n",
    "    dict_elements_2 = dict_elements_2.to(device)\n",
    "\n",
    "    # Normalize the tensors\n",
    "    dict_elements_1 = F.normalize(dict_elements_1, p=p_norm, dim=dim)\n",
    "    dict_elements_2 = F.normalize(dict_elements_2, p=p_norm, dim=dim)\n",
    "\n",
    "    # Compute cosine similarity using matrix multiplication\n",
    "    cosine_sim: Float[Tensor, \"n_dict_1 n_dict_2\"] = torch.mm(dict_elements_1, dict_elements_2.T)\n",
    "    return cosine_sim"
   ]
  },
  {
   "cell_type": "code",
   "execution_count": 6,
   "metadata": {},
   "outputs": [
    {
     "name": "stdout",
     "output_type": "stream",
     "text": [
      "Loaded pretrained model gpt2-small into HookedTransformer\n",
      "Moving model to device:  cuda\n"
     ]
    },
    {
     "name": "stderr",
     "output_type": "stream",
     "text": [
      "d:\\code\\sae\\SAE_Geometry\\.venv\\Lib\\site-packages\\datasets\\load.py:1454: FutureWarning: The repository for Skylion007/openwebtext contains custom code which must be executed to correctly load the dataset. You can inspect the repository content at https://hf.co/datasets/Skylion007/openwebtext\n",
      "You can avoid this message in future by passing the argument `trust_remote_code=True`.\n",
      "Passing `trust_remote_code=True` will be mandatory to load this dataset from the next major release of `datasets`.\n",
      "  warnings.warn(\n",
      "100%|██████████| 8013/8013 [00:13<00:00, 591.12it/s]\n"
     ]
    },
    {
     "data": {
      "text/plain": [
       "torch.Size([12, 24576])"
      ]
     },
     "execution_count": 6,
     "metadata": {},
     "output_type": "execute_result"
    }
   ],
   "source": [
    "from sae_lens import HookedSAETransformer\n",
    "\n",
    "model: HookedSAETransformer = HookedSAETransformer.from_pretrained(\"gpt2-small\").to(\n",
    "    device\n",
    ")\n",
    "\n",
    "from datasets import load_dataset\n",
    "\n",
    "# Load the Skylion007/openwebtext dataset\n",
    "dataset = load_dataset('Skylion007/openwebtext')\n",
    "length = 8013\n",
    "# Print the first example from the dataset\n",
    "doc_length = torch.zeros([length]).to(device)\n",
    "\n",
    "for idx in tqdm.tqdm(range(length)):\n",
    "#for idx in tqdm.tqdm(range(10)):\n",
    "    example = dataset['train'][idx]\n",
    "    tokens = model.to_tokens([example['text']], prepend_bos=True)\n",
    "    doc_length[idx] = tokens.shape[1]\n",
    "\n",
    "weights = F.normalize(doc_length, p=1, dim=0)\n",
    "expanded_weights = weights.unsqueeze(0).unsqueeze(2).expand(12, 8013, 24576)\n",
    "acts_weighted = (acts * expanded_weights).sum(dim=1)\n",
    "acts_weighted.shape"
   ]
  },
  {
   "cell_type": "code",
   "execution_count": 9,
   "metadata": {},
   "outputs": [],
   "source": [
    "torch.save(acts_weighted, \"data/acts_weighted.pt\")"
   ]
  },
  {
   "cell_type": "code",
   "execution_count": 10,
   "metadata": {},
   "outputs": [],
   "source": [
    "torch.save(weights, \"data/weights.pt\")"
   ]
  },
  {
   "cell_type": "code",
   "execution_count": 12,
   "metadata": {},
   "outputs": [
    {
     "name": "stderr",
     "output_type": "stream",
     "text": [
      "100%|██████████| 12/12 [00:07<00:00,  1.61it/s]\n"
     ]
    }
   ],
   "source": [
    "cos_sim = torch.zeros((layers, d_sae, d_sae))\n",
    "for layer in tqdm.tqdm(range(12)):\n",
    "    cos_sim[layer] = get_cosine_similarity(hook_name_to_sae[layer].W_dec, hook_name_to_sae[layer].W_dec).cpu()\n",
    "    for length in range(d_sae):\n",
    "        cos_sim[layer][length][length] = 0\n",
    "cos_sim.shape\n",
    "torch.save(cos_sim, \"data/cos_sim.pt\")"
   ]
  },
  {
   "cell_type": "code",
   "execution_count": null,
   "metadata": {},
   "outputs": [],
   "source": []
  }
 ],
 "metadata": {
  "kernelspec": {
   "display_name": ".venv",
   "language": "python",
   "name": "python3"
  },
  "language_info": {
   "codemirror_mode": {
    "name": "ipython",
    "version": 3
   },
   "file_extension": ".py",
   "mimetype": "text/x-python",
   "name": "python",
   "nbconvert_exporter": "python",
   "pygments_lexer": "ipython3",
   "version": "3.12.7"
  }
 },
 "nbformat": 4,
 "nbformat_minor": 2
}
