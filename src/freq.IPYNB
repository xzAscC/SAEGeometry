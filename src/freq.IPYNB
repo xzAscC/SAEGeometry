{
 "cells": [
  {
   "cell_type": "code",
   "execution_count": 1,
   "metadata": {},
   "outputs": [
    {
     "name": "stderr",
     "output_type": "stream",
     "text": [
      "/mnt/c/Users/huohu/Documents/code/SAEGeometry/config/saegeometry-1tp4usyN-py3.12/lib/python3.12/site-packages/tqdm/auto.py:21: TqdmWarning: IProgress not found. Please update jupyter and ipywidgets. See https://ipywidgets.readthedocs.io/en/stable/user_install.html\n",
      "  from .autonotebook import tqdm as notebook_tqdm\n"
     ]
    }
   ],
   "source": [
    "import torch\n",
    "import sae_lens"
   ]
  },
  {
   "cell_type": "code",
   "execution_count": 3,
   "metadata": {},
   "outputs": [
    {
     "name": "stderr",
     "output_type": "stream",
     "text": [
      "The `GPTNeoXSdpaAttention` class is deprecated in favor of simply modifying the `config._attn_implementation`attribute of the `GPTNeoXAttention` class! It will be removed in v4.48\n"
     ]
    },
    {
     "name": "stdout",
     "output_type": "stream",
     "text": [
      "Loaded pretrained model pythia-70m-deduped into HookedTransformer\n",
      "Moving model to device:  cuda\n"
     ]
    }
   ],
   "source": [
    "layers = 6\n",
    "device = \"cuda\" if torch.cuda.is_available() else \"cpu\"\n",
    "sae_list = []\n",
    "release = \"pythia-70m-deduped-res-sm\"\n",
    "sae_id = f\"blocks.0.hook_resid_pre\"\n",
    "model_name = \"pythia-70m-deduped\"\n",
    "sae_list.append(\n",
    "    sae_lens.SAE.from_pretrained(\n",
    "        release=release, sae_id=sae_id, device=device\n",
    "    )[0]\n",
    ")\n",
    "for layer in range(layers):\n",
    "    sae_id = f\"blocks.{layer}.hook_resid_post\"\n",
    "    sae_list.append(\n",
    "        sae_lens.SAE.from_pretrained(\n",
    "            release=release, sae_id=sae_id, device=device\n",
    "        )[0]\n",
    "    )\n",
    "\n",
    "model = sae_lens.HookedSAETransformer.from_pretrained(model_name).to(device)"
   ]
  },
  {
   "cell_type": "code",
   "execution_count": 4,
   "metadata": {},
   "outputs": [],
   "source": [
    "import datasets\n",
    "dataset = datasets.load_dataset(\"Salesforce/wikitext\", \"wikitext-2-raw-v1\")[\"train\"]"
   ]
  },
  {
   "cell_type": "code",
   "execution_count": 19,
   "metadata": {},
   "outputs": [
    {
     "name": "stderr",
     "output_type": "stream",
     "text": [
      "100%|██████████| 36718/36718 [12:15<00:00, 49.89it/s]\n"
     ]
    },
    {
     "ename": "AttributeError",
     "evalue": "expected 'f' to be string, path, or a file-like object with a 'write' attribute",
     "output_type": "error",
     "traceback": [
      "\u001b[0;31m---------------------------------------------------------------------------\u001b[0m",
      "\u001b[0;31mAttributeError\u001b[0m                            Traceback (most recent call last)",
      "Cell \u001b[0;32mIn[19], line 31\u001b[0m\n\u001b[1;32m     26\u001b[0m         freq_mean_global \u001b[38;5;241m=\u001b[39m (\n\u001b[1;32m     27\u001b[0m             freq_mean_global \u001b[38;5;241m*\u001b[39m doc_len \u001b[38;5;241m/\u001b[39m new_doc_len\n\u001b[1;32m     28\u001b[0m             \u001b[38;5;241m+\u001b[39m freq \u001b[38;5;241m*\u001b[39m local_doc_len \u001b[38;5;241m/\u001b[39m new_doc_len\n\u001b[1;32m     29\u001b[0m         )\n\u001b[1;32m     30\u001b[0m     doc_len \u001b[38;5;241m=\u001b[39m new_doc_len\n\u001b[0;32m---> 31\u001b[0m \u001b[43mtorch\u001b[49m\u001b[38;5;241;43m.\u001b[39;49m\u001b[43msave\u001b[49m\u001b[43m(\u001b[49m\u001b[43mfreq_mean_global\u001b[49m\u001b[43m,\u001b[49m\u001b[43m \u001b[49m\u001b[43msave_name\u001b[49m\u001b[43m)\u001b[49m\n",
      "File \u001b[0;32m/mnt/c/Users/huohu/Documents/code/SAEGeometry/config/saegeometry-1tp4usyN-py3.12/lib/python3.12/site-packages/torch/serialization.py:846\u001b[0m, in \u001b[0;36msave\u001b[0;34m(obj, f, pickle_module, pickle_protocol, _use_new_zipfile_serialization, _disable_byteorder_record)\u001b[0m\n\u001b[1;32m    844\u001b[0m torch\u001b[38;5;241m.\u001b[39m_C\u001b[38;5;241m.\u001b[39m_log_api_usage_once(\u001b[38;5;124m\"\u001b[39m\u001b[38;5;124mtorch.save\u001b[39m\u001b[38;5;124m\"\u001b[39m)\n\u001b[1;32m    845\u001b[0m _check_dill_version(pickle_module)\n\u001b[0;32m--> 846\u001b[0m \u001b[43m_check_save_filelike\u001b[49m\u001b[43m(\u001b[49m\u001b[43mf\u001b[49m\u001b[43m)\u001b[49m\n\u001b[1;32m    848\u001b[0m \u001b[38;5;28;01mif\u001b[39;00m _use_new_zipfile_serialization:\n\u001b[1;32m    849\u001b[0m     \u001b[38;5;28;01mwith\u001b[39;00m _open_zipfile_writer(f) \u001b[38;5;28;01mas\u001b[39;00m opened_zipfile:\n",
      "File \u001b[0;32m/mnt/c/Users/huohu/Documents/code/SAEGeometry/config/saegeometry-1tp4usyN-py3.12/lib/python3.12/site-packages/torch/serialization.py:790\u001b[0m, in \u001b[0;36m_check_save_filelike\u001b[0;34m(f)\u001b[0m\n\u001b[1;32m    788\u001b[0m \u001b[38;5;28;01mdef\u001b[39;00m \u001b[38;5;21m_check_save_filelike\u001b[39m(f):\n\u001b[1;32m    789\u001b[0m     \u001b[38;5;28;01mif\u001b[39;00m \u001b[38;5;129;01mnot\u001b[39;00m _is_path(f) \u001b[38;5;129;01mand\u001b[39;00m \u001b[38;5;129;01mnot\u001b[39;00m \u001b[38;5;28mhasattr\u001b[39m(f, \u001b[38;5;124m\"\u001b[39m\u001b[38;5;124mwrite\u001b[39m\u001b[38;5;124m\"\u001b[39m):\n\u001b[0;32m--> 790\u001b[0m         \u001b[38;5;28;01mraise\u001b[39;00m \u001b[38;5;167;01mAttributeError\u001b[39;00m(\n\u001b[1;32m    791\u001b[0m             \u001b[38;5;124m\"\u001b[39m\u001b[38;5;124mexpected \u001b[39m\u001b[38;5;124m'\u001b[39m\u001b[38;5;124mf\u001b[39m\u001b[38;5;124m'\u001b[39m\u001b[38;5;124m to be string, path, or a file-like object with \u001b[39m\u001b[38;5;124m\"\u001b[39m\n\u001b[1;32m    792\u001b[0m             \u001b[38;5;124m\"\u001b[39m\u001b[38;5;124ma \u001b[39m\u001b[38;5;124m'\u001b[39m\u001b[38;5;124mwrite\u001b[39m\u001b[38;5;124m'\u001b[39m\u001b[38;5;124m attribute\u001b[39m\u001b[38;5;124m\"\u001b[39m\n\u001b[1;32m    793\u001b[0m         )\n",
      "\u001b[0;31mAttributeError\u001b[0m: expected 'f' to be string, path, or a file-like object with a 'write' attribute"
     ]
    }
   ],
   "source": [
    "from tqdm import tqdm\n",
    "save_name=\"math_gemme_freq_mean_global.pt\"\n",
    "\n",
    "doc_len = 0\n",
    "freq_mean_global = 0\n",
    "layers = 6\n",
    "freqs = torch.zeros(layers + 1, sae_list[0].cfg.d_sae).to(device)\n",
    "for idx in tqdm(range(len(dataset))):\n",
    "    # loop begin, fuck indent\n",
    "    example = dataset[idx]\n",
    "    tokens = model.to_tokens([example[\"text\"]], prepend_bos=True)\n",
    "    _, cache = model.run_with_cache_with_saes(tokens, saes=sae_list)\n",
    "    local_doc_len = cache[\"blocks.0.hook_resid_post.hook_sae_acts_post\"].shape[1]\n",
    "    freq = torch.zeros_like(freqs)\n",
    "    for layer in range(layers):\n",
    "        prompt = f\"blocks.{layer}.hook_resid_pre.hook_sae_acts_post\"\n",
    "        prompt2 = f\"blocks.{layer}.hook_resid_post.hook_sae_acts_post\"\n",
    "        if layer == 0:\n",
    "            freq[layer] = (cache[prompt] > 1e-3)[0].sum(0) / local_doc_len\n",
    "\n",
    "        freq[layer + 1] = (cache[prompt2] > 1e-3)[0].sum(0) / local_doc_len\n",
    "    new_doc_len = doc_len + local_doc_len\n",
    "    if idx == 0:\n",
    "        freq_mean_global = freq\n",
    "    else:\n",
    "        freq_mean_global = (\n",
    "            freq_mean_global * doc_len / new_doc_len\n",
    "            + freq * local_doc_len / new_doc_len\n",
    "        )\n",
    "    doc_len = new_doc_len\n",
    "torch.save(freq_mean_global, save_name)"
   ]
  },
  {
   "cell_type": "code",
   "execution_count": null,
   "metadata": {},
   "outputs": [],
   "source": []
  }
 ],
 "metadata": {
  "kernelspec": {
   "display_name": "saegeometry-1tp4usyN-py3.12",
   "language": "python",
   "name": "python3"
  },
  "language_info": {
   "codemirror_mode": {
    "name": "ipython",
    "version": 3
   },
   "file_extension": ".py",
   "mimetype": "text/x-python",
   "name": "python",
   "nbconvert_exporter": "python",
   "pygments_lexer": "ipython3",
   "version": "3.12.3"
  }
 },
 "nbformat": 4,
 "nbformat_minor": 2
}
