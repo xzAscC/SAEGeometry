{
 "cells": [
  {
   "cell_type": "code",
   "execution_count": 1,
   "metadata": {},
   "outputs": [
    {
     "name": "stderr",
     "output_type": "stream",
     "text": [
      "/mnt/c/Users/huohu/Documents/code/SAEGeometry/config/saegeometry-1tp4usyN-py3.12/lib/python3.12/site-packages/tqdm/auto.py:21: TqdmWarning: IProgress not found. Please update jupyter and ipywidgets. See https://ipywidgets.readthedocs.io/en/stable/user_install.html\n",
      "  from .autonotebook import tqdm as notebook_tqdm\n"
     ]
    }
   ],
   "source": [
    "import torch\n",
    "import sae_lens"
   ]
  },
  {
   "cell_type": "code",
   "execution_count": 2,
   "metadata": {},
   "outputs": [
    {
     "name": "stderr",
     "output_type": "stream",
     "text": [
      "The `GPTNeoXSdpaAttention` class is deprecated in favor of simply modifying the `config._attn_implementation`attribute of the `GPTNeoXAttention` class! It will be removed in v4.48\n"
     ]
    },
    {
     "name": "stdout",
     "output_type": "stream",
     "text": [
      "Loaded pretrained model pythia-70m-deduped into HookedTransformer\n",
      "Moving model to device:  cuda\n"
     ]
    }
   ],
   "source": [
    "layers = 6\n",
    "device = \"cuda\" if torch.cuda.is_available() else \"cpu\"\n",
    "sae_list = []\n",
    "release = \"pythia-70m-deduped-res-sm\"\n",
    "sae_id = f\"blocks.0.hook_resid_pre\"\n",
    "model_name = \"pythia-70m-deduped\"\n",
    "sae_list.append(\n",
    "    sae_lens.SAE.from_pretrained(\n",
    "        release=release, sae_id=sae_id, device=device\n",
    "    )[0]\n",
    ")\n",
    "for layer in range(layers):\n",
    "    sae_id = f\"blocks.{layer}.hook_resid_post\"\n",
    "    sae_list.append(\n",
    "        sae_lens.SAE.from_pretrained(\n",
    "            release=release, sae_id=sae_id, device=device\n",
    "        )[0]\n",
    "    )\n",
    "\n",
    "model = sae_lens.HookedSAETransformer.from_pretrained(model_name).to(device)"
   ]
  },
  {
   "cell_type": "code",
   "execution_count": 3,
   "metadata": {},
   "outputs": [],
   "source": [
    "import datasets\n",
    "dataset = datasets.load_dataset(\"Salesforce/wikitext\", \"wikitext-2-raw-v1\")[\"train\"]"
   ]
  },
  {
   "cell_type": "code",
   "execution_count": 4,
   "metadata": {},
   "outputs": [
    {
     "name": "stderr",
     "output_type": "stream",
     "text": [
      "100%|██████████| 3671/3671 [01:14<00:00, 49.16it/s]\n"
     ]
    }
   ],
   "source": [
    "from tqdm import tqdm\n",
    "save_name=\"wiki_pythia_res_post.pt\"\n",
    "length = int(0.1*len(dataset))\n",
    "doc_len = 0\n",
    "freq_mean_global = 0\n",
    "layers = 6\n",
    "freqs = torch.zeros(layers + 1, sae_list[0].cfg.d_sae).to(device)\n",
    "\n",
    "for idx in tqdm(range(length)):\n",
    "    # loop begin, fuck indent\n",
    "    example = dataset[idx]\n",
    "    tokens = model.to_tokens([example[\"text\"]], prepend_bos=True)\n",
    "    _, cache = model.run_with_cache_with_saes(tokens, saes=sae_list)\n",
    "    local_doc_len = cache[\"blocks.0.hook_resid_post.hook_sae_acts_post\"].shape[1]\n",
    "    freq = torch.zeros_like(freqs)\n",
    "    for layer in range(layers):\n",
    "        prompt = f\"blocks.{layer}.hook_resid_pre.hook_sae_acts_post\"\n",
    "        prompt2 = f\"blocks.{layer}.hook_resid_post.hook_sae_acts_post\"\n",
    "        if layer == 0:\n",
    "            freq[layer] = (cache[prompt] > 1e-3)[0].sum(0) / local_doc_len\n",
    "\n",
    "        freq[layer + 1] = (cache[prompt2] > 1e-3)[0].sum(0) / local_doc_len\n",
    "    new_doc_len = doc_len + local_doc_len\n",
    "    if idx == 0:\n",
    "        freq_mean_global = freq\n",
    "    else:\n",
    "        freq_mean_global = (\n",
    "            freq_mean_global * doc_len / new_doc_len\n",
    "            + freq * local_doc_len / new_doc_len\n",
    "        )\n",
    "    doc_len = new_doc_len\n",
    "torch.save(freq_mean_global, save_name)"
   ]
  },
  {
   "cell_type": "code",
   "execution_count": 7,
   "metadata": {},
   "outputs": [],
   "source": [
    "math_dataset = datasets.load_dataset(\"hbin0701/abstract_math\")[\"train\"][\"input\"]"
   ]
  },
  {
   "cell_type": "code",
   "execution_count": 8,
   "metadata": {},
   "outputs": [
    {
     "name": "stderr",
     "output_type": "stream",
     "text": [
      "100%|██████████| 10000/10000 [03:23<00:00, 49.20it/s]\n"
     ]
    }
   ],
   "source": [
    "from tqdm import tqdm\n",
    "save_name=\"math_pythia_res_post.pt\"\n",
    "length = int(0.01*len(math_dataset))\n",
    "doc_len = 0\n",
    "freq_mean_global = 0\n",
    "layers = 6\n",
    "freqs = torch.zeros(layers + 1, sae_list[0].cfg.d_sae).to(device)\n",
    "\n",
    "for idx in tqdm(range(length)):\n",
    "    # loop begin, fuck indent\n",
    "    example = math_dataset[idx]\n",
    "    tokens = model.to_tokens([example], prepend_bos=True)\n",
    "    _, cache = model.run_with_cache_with_saes(tokens, saes=sae_list)\n",
    "    local_doc_len = cache[\"blocks.0.hook_resid_post.hook_sae_acts_post\"].shape[1]\n",
    "    freq = torch.zeros_like(freqs)\n",
    "    for layer in range(layers):\n",
    "        prompt = f\"blocks.{layer}.hook_resid_pre.hook_sae_acts_post\"\n",
    "        prompt2 = f\"blocks.{layer}.hook_resid_post.hook_sae_acts_post\"\n",
    "        if layer == 0:\n",
    "            freq[layer] = (cache[prompt] > 1e-3)[0].sum(0) / local_doc_len\n",
    "\n",
    "        freq[layer + 1] = (cache[prompt2] > 1e-3)[0].sum(0) / local_doc_len\n",
    "    new_doc_len = doc_len + local_doc_len\n",
    "    if idx == 0:\n",
    "        freq_mean_global = freq\n",
    "    else:\n",
    "        freq_mean_global = (\n",
    "            freq_mean_global * doc_len / new_doc_len\n",
    "            + freq * local_doc_len / new_doc_len\n",
    "        )\n",
    "    doc_len = new_doc_len\n",
    "torch.save(freq_mean_global, save_name)"
   ]
  },
  {
   "cell_type": "code",
   "execution_count": 9,
   "metadata": {},
   "outputs": [
    {
     "data": {
      "text/plain": [
       "tensor(0.9884, device='cuda:0')"
      ]
     },
     "execution_count": 9,
     "metadata": {},
     "output_type": "execute_result"
    }
   ],
   "source": [
    "freq_mean_global.max()"
   ]
  },
  {
   "cell_type": "code",
   "execution_count": 10,
   "metadata": {},
   "outputs": [
    {
     "name": "stderr",
     "output_type": "stream",
     "text": [
      "100%|██████████| 8139/8139 [03:11<00:00, 42.43it/s]\n"
     ]
    }
   ],
   "source": [
    "import datasets\n",
    "ds = datasets.load_dataset(\"iamtarun/code_contest_python3_alpaca\")['train']\n",
    "from tqdm import tqdm\n",
    "save_name=\"code_pythia_res_post.pt\"\n",
    "length = int(len(ds))\n",
    "doc_len = 0\n",
    "freq_mean_global = 0\n",
    "layers = 6\n",
    "freqs = torch.zeros(layers + 1, sae_list[0].cfg.d_sae).to(device)\n",
    "\n",
    "for idx in tqdm(range(length)):\n",
    "    # loop begin, fuck indent\n",
    "    example = ds[idx]\n",
    "    tokens = model.to_tokens([example[\"code\"]], prepend_bos=True)\n",
    "    _, cache = model.run_with_cache_with_saes(tokens, saes=sae_list)\n",
    "    local_doc_len = cache[\"blocks.0.hook_resid_post.hook_sae_acts_post\"].shape[1]\n",
    "    freq = torch.zeros_like(freqs)\n",
    "    for layer in range(layers):\n",
    "        prompt = f\"blocks.{layer}.hook_resid_pre.hook_sae_acts_post\"\n",
    "        prompt2 = f\"blocks.{layer}.hook_resid_post.hook_sae_acts_post\"\n",
    "        if layer == 0:\n",
    "            freq[layer] = (cache[prompt] > 1e-3)[0].sum(0) / local_doc_len\n",
    "\n",
    "        freq[layer + 1] = (cache[prompt2] > 1e-3)[0].sum(0) / local_doc_len\n",
    "    new_doc_len = doc_len + local_doc_len\n",
    "    if idx == 0:\n",
    "        freq_mean_global = freq\n",
    "    else:\n",
    "        freq_mean_global = (\n",
    "            freq_mean_global * doc_len / new_doc_len\n",
    "            + freq * local_doc_len / new_doc_len\n",
    "        )\n",
    "    doc_len = new_doc_len\n",
    "torch.save(freq_mean_global, save_name)"
   ]
  },
  {
   "cell_type": "code",
   "execution_count": null,
   "metadata": {},
   "outputs": [],
   "source": []
  }
 ],
 "metadata": {
  "kernelspec": {
   "display_name": "saegeometry-1tp4usyN-py3.12",
   "language": "python",
   "name": "python3"
  },
  "language_info": {
   "codemirror_mode": {
    "name": "ipython",
    "version": 3
   },
   "file_extension": ".py",
   "mimetype": "text/x-python",
   "name": "python",
   "nbconvert_exporter": "python",
   "pygments_lexer": "ipython3",
   "version": "3.12.3"
  }
 },
 "nbformat": 4,
 "nbformat_minor": 2
}
